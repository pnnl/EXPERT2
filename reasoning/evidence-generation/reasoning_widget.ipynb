{
 "cells": [
  {
   "cell_type": "markdown",
   "id": "43df3c68",
   "metadata": {},
   "source": [
    "## Text Based Reasoning - Answers open ended questions based on abstract and full text"
   ]
  },
  {
   "cell_type": "code",
   "execution_count": 3,
   "id": "e23ba4d8",
   "metadata": {
    "scrolled": false
   },
   "outputs": [
    {
     "name": "stdout",
     "output_type": "stream",
     "text": [
      "(User Message: If running this widget on a virtual machine, port forward 8050 to your local machine and then run the widget)\n",
      "Dash is running on http://127.0.0.1:8050/\n",
      "\n"
     ]
    },
    {
     "data": {
      "text/html": [
       "\n",
       "        <iframe\n",
       "            width=\"100%\"\n",
       "            height=\"650\"\n",
       "            src=\"http://127.0.0.1:8050/\"\n",
       "            frameborder=\"0\"\n",
       "            allowfullscreen\n",
       "            \n",
       "        ></iframe>\n",
       "        "
      ],
      "text/plain": [
       "<IPython.lib.display.IFrame at 0x7ff014f4af10>"
      ]
     },
     "metadata": {},
     "output_type": "display_data"
    },
    {
     "data": {
      "text/plain": [
       "<reasoning_widget.LoadWidget at 0x7ff017444d60>"
      ]
     },
     "execution_count": 3,
     "metadata": {},
     "output_type": "execute_result"
    }
   ],
   "source": [
    "import reasoning_widget\n",
    "\n",
    "# filepaths\n",
    "language_data_filepath = './demo/inputs/atlas/language-model-output.jsonl'\n",
    "source_doc_filepath = './demo/inputs/atlas/source-documents.jsonl'          \n",
    "\n",
    "# load widget - Text query\n",
    "reasoning_widget.LoadWidget('text',language_data_filepath, source_doc_filepath)\n",
    "\n",
    "\n"
   ]
  },
  {
   "cell_type": "markdown",
   "id": "03206814",
   "metadata": {},
   "source": [
    "## Graph Based Reasoning - Answers are generated based on entities like Scientits, Locations and Topics"
   ]
  },
  {
   "cell_type": "code",
   "execution_count": 2,
   "id": "0eca08bc",
   "metadata": {
    "scrolled": false
   },
   "outputs": [
    {
     "name": "stdout",
     "output_type": "stream",
     "text": [
      "(User Message: If running this widget on a virtual machine, port forward 64393 to your local machine and then run the widget)\n",
      "Dash is running on http://127.0.0.1:64393/\n",
      "\n"
     ]
    },
    {
     "data": {
      "text/html": [
       "\n",
       "        <iframe\n",
       "            width=\"100%\"\n",
       "            height=\"650\"\n",
       "            src=\"http://127.0.0.1:64393/\"\n",
       "            frameborder=\"0\"\n",
       "            allowfullscreen\n",
       "            \n",
       "        ></iframe>\n",
       "        "
      ],
      "text/plain": [
       "<IPython.lib.display.IFrame at 0x7fc3bafaff70>"
      ]
     },
     "metadata": {},
     "output_type": "display_data"
    },
    {
     "data": {
      "text/plain": [
       "<reasoning_widget.LoadWidget at 0x7fc3baf8eb80>"
      ]
     },
     "execution_count": 2,
     "metadata": {},
     "output_type": "execute_result"
    }
   ],
   "source": [
    "# # load widget - Graph query\n",
    "reasoning_widget.LoadWidget('graph',\"./demo/inputs/atlantic/graph_query.jsonl\")"
   ]
  }
 ],
 "metadata": {
  "kernelspec": {
   "display_name": "Python 3 (ipykernel)",
   "language": "python",
   "name": "python3"
  },
  "language_info": {
   "codemirror_mode": {
    "name": "ipython",
    "version": 3
   },
   "file_extension": ".py",
   "mimetype": "text/x-python",
   "name": "python",
   "nbconvert_exporter": "python",
   "pygments_lexer": "ipython3",
   "version": "3.8.8"
  }
 },
 "nbformat": 4,
 "nbformat_minor": 5
}
